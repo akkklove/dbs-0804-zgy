{
 "cells": [
  {
   "cell_type": "code",
   "execution_count": 1,
   "id": "769577ca",
   "metadata": {},
   "outputs": [],
   "source": [
    "import joblib"
   ]
  },
  {
   "cell_type": "code",
   "execution_count": 2,
   "id": "531bafba",
   "metadata": {},
   "outputs": [],
   "source": [
    "model = joblib.load(\"regression\")"
   ]
  },
  {
   "cell_type": "code",
   "execution_count": 3,
   "id": "77d20281",
   "metadata": {},
   "outputs": [
    {
     "name": "stdout",
     "output_type": "stream",
     "text": [
      "DBS share price predicted is :  [[19.38726492]]\n"
     ]
    },
    {
     "name": "stderr",
     "output_type": "stream",
     "text": [
      "D:\\anacoda1\\lib\\site-packages\\sklearn\\base.py:450: UserWarning: X does not have valid feature names, but LinearRegression was fitted with feature names\n",
      "  warnings.warn(\n"
     ]
    }
   ],
   "source": [
    "print(\"DBS share price predicted is : \", model.predict([[1.4]]))"
   ]
  },
  {
   "cell_type": "code",
   "execution_count": 4,
   "id": "801332a7",
   "metadata": {},
   "outputs": [],
   "source": [
    "model = joblib.load(\"tree\")"
   ]
  },
  {
   "cell_type": "code",
   "execution_count": 5,
   "id": "936cd6ab",
   "metadata": {},
   "outputs": [
    {
     "name": "stdout",
     "output_type": "stream",
     "text": [
      "DBS share price predicted is : [21.]\n"
     ]
    },
    {
     "name": "stderr",
     "output_type": "stream",
     "text": [
      "D:\\anacoda1\\lib\\site-packages\\sklearn\\base.py:450: UserWarning: X does not have valid feature names, but DecisionTreeRegressor was fitted with feature names\n",
      "  warnings.warn(\n"
     ]
    }
   ],
   "source": [
    "print(\"DBS share price predicted is :\",model.predict([[1.39]]))"
   ]
  },
  {
   "cell_type": "code",
   "execution_count": null,
   "id": "c1cc4933",
   "metadata": {},
   "outputs": [],
   "source": []
  }
 ],
 "metadata": {
  "kernelspec": {
   "display_name": "Python 3 (ipykernel)",
   "language": "python",
   "name": "python3"
  },
  "language_info": {
   "codemirror_mode": {
    "name": "ipython",
    "version": 3
   },
   "file_extension": ".py",
   "mimetype": "text/x-python",
   "name": "python",
   "nbconvert_exporter": "python",
   "pygments_lexer": "ipython3",
   "version": "3.9.12"
  }
 },
 "nbformat": 4,
 "nbformat_minor": 5
}
